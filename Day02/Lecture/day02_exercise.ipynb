{
 "cells": [
  {
   "cell_type": "markdown",
   "metadata": {},
   "source": [
    "#  Exercise: Namespace, Classes, and OOP"
   ]
  },
  {
   "cell_type": "markdown",
   "metadata": {},
   "source": [
    "##### Instructions"
   ]
  },
  {
   "cell_type": "markdown",
   "metadata": {},
   "source": [
    "\n",
    "* Create a class Senator() and a class Bill()\n",
    "* Complete the code below with your solutions.\n",
    "* Changes to test"
   ]
  },
  {
   "cell_type": "code",
   "execution_count": null,
   "metadata": {},
   "outputs": [],
   "source": [
    "class Senator():\n",
    "    # initializer / constructor\n",
    "    def __init__(self, name):\n",
    "        self.name = name\n",
    "        self.bills_voted_on = [] ## list of Bill objects\n",
    "\n",
    "    def __str__(self): # Print method  \n",
    "        # print the name of the senator\n",
    "        # YOUR CODE HERE\n",
    "\n",
    "    def vote(self, bill, choice):\n",
    "        # choice is a string of 'yes', 'no' or 'abstain'.\n",
    "        # the bill object would be of Bill class, which we will create below \n",
    "        # 1. update the bill object: add the senator's name to the list of yes/no/abstain (see Bill() class)\n",
    "        # 2. update the senator object: add this bill to the bills_voted_on\n",
    "        # 3. print an informative message announcing the vote \n",
    "        # YOUR CODE HERE\n",
    "\n",
    "class Bill():\n",
    "    # initializer / constructor\n",
    "    def __init__(self, title):\n",
    "        self.title = title\n",
    "        self.votes = {\"yes\" : [], \"no\" : [], \"abstain\" : []}\n",
    "        self.passed = None\n",
    "\n",
    "    def __str__(self): # Print method  \n",
    "        # print the title of the bill\n",
    "        # YOUR CODE HERE\n",
    "\n",
    "    def result(self):\n",
    "        # 1. Check if the bill is passed using simply majority rule (i.e., more yes than no)\n",
    "        # 2. Update and return the passed variable indicate True/False if the bill passed\n",
    "        # YOUR CODE HERE"
   ]
  },
  {
   "cell_type": "markdown",
   "metadata": {},
   "source": [
    "* The following code should run if you've done the above correctly"
   ]
  },
  {
   "cell_type": "code",
   "execution_count": null,
   "metadata": {},
   "outputs": [],
   "source": [
    "jane = Senator(\"Jane\")\n",
    "jack = Senator(\"Jack\")\n",
    "print(jack)\n",
    "print(jane)\n",
    "environment = Bill(\"Environmental Protection\")\n",
    "print(environment)\n",
    "jane.vote(environment, \"yes\")\n",
    "jack.vote(environment, \"no\")\n",
    "environment.result()\n",
    "print(environment.votes)\n",
    "print(environment.passed)\n",
    "print(jack.bills_voted_on[0].passed)"
   ]
  },
  {
   "cell_type": "markdown",
   "metadata": {},
   "source": [
    "* Create another Senator with your name, and make the bill pass. "
   ]
  },
  {
   "cell_type": "code",
   "execution_count": null,
   "metadata": {},
   "outputs": [],
   "source": [
    "# YOUR CODE HERE"
   ]
  },
  {
   "cell_type": "code",
   "execution_count": null,
   "metadata": {},
   "outputs": [],
   "source": []
  },
  {
   "cell_type": "code",
   "execution_count": null,
   "metadata": {},
   "outputs": [],
   "source": []
  },
  {
   "cell_type": "code",
   "execution_count": null,
   "metadata": {},
   "outputs": [],
   "source": []
  }
 ],
 "metadata": {
  "kernelspec": {
   "display_name": "Python 3 (ipykernel)",
   "language": "python",
   "name": "python3"
  },
  "language_info": {
   "codemirror_mode": {
    "name": "ipython",
    "version": 3
   },
   "file_extension": ".py",
   "mimetype": "text/x-python",
   "name": "python",
   "nbconvert_exporter": "python",
   "pygments_lexer": "ipython3",
   "version": "3.12.4"
  }
 },
 "nbformat": 4,
 "nbformat_minor": 4
}
